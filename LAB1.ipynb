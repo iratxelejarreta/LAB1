{
 "cells": [
  {
   "cell_type": "markdown",
   "metadata": {},
   "source": [
    "# LABORATORIO 1: Simulación de circuitos con Spice"
   ]
  },
  {
   "cell_type": "markdown",
   "metadata": {},
   "source": [
    "El presente labotarios recoge varios ejercicios realizados con la aplicación LTSpice. "
   ]
  },
  {
   "attachments": {},
   "cell_type": "markdown",
   "metadata": {},
   "source": [
    "## Ejercicio 1\n",
    "Consiste en realizar un primer circuito sencillo con una pila y una resistencia:\n",
    "![](img/img11.png)\n",
    "El resultado generado es el siguiente (operación Ley de Ohm):\n",
    "![](img/img12.png)"
   ]
  },
  {
   "attachments": {},
   "cell_type": "markdown",
   "metadata": {},
   "source": [
    "## Ejercicio 2\n",
    "Consiste en realizar un segundo circuito con 3 resistencias en serie:\n",
    "![](img/img21.png)\n",
    "El resultado generado es el siguiente:\n",
    "![](img/img22.png)"
   ]
  },
  {
   "attachments": {},
   "cell_type": "markdown",
   "metadata": {},
   "source": [
    "## Ejercicio 3\n",
    "Consiste en realizar un tercer circuito, donde se modifica el valor de la pila de 2 a 20 voltios de 2 en 2. El resultado es el gráfico que se muestra debajo del código:\n",
    "![](img/img3.png)"
   ]
  },
  {
   "attachments": {},
   "cell_type": "markdown",
   "metadata": {},
   "source": [
    "## Ejercicio 4\n",
    "Consiste en realizar un cuarto circuito, simulando resistencias en paralelo, tal y como se muestra en la siguiente imagen: \n",
    "![](img/img41.png)\n",
    "El código y el resultado gráfico:\n",
    "![](img/img42.png)"
   ]
  },
  {
   "attachments": {},
   "cell_type": "markdown",
   "metadata": {},
   "source": [
    "## Ejercicio 5\n",
    "Consiste en realizar un quinto circuito, simulando resistencias en paralelo, tal y como se muestra en la siguiente imagen: \n",
    "![](img/img51.png)\n",
    "El código del circuito es el siguiente:\n",
    "![](img/img52.png)\n",
    "El resultado generado en forma de operaciones:\n",
    "![](img/img53.png)"
   ]
  },
  {
   "attachments": {},
   "cell_type": "markdown",
   "metadata": {},
   "source": [
    "## Ejercicio 6\n",
    "Consiste en realizar un sexto circuito, donde se visualiza gráficamente la carga de un condensador trancurridos 5 segundos (el condensador se inicia sin carga). El resultado es el gráfico que se muestra debajo del código:\n",
    "![](img/img6.png)"
   ]
  },
  {
   "attachments": {},
   "cell_type": "markdown",
   "metadata": {},
   "source": [
    "## Ejercicio 7\n",
    "Consiste en realizar un séptimo ejercicio, donde se simula un sencillo circuito en corriente alterna. El resultado es el gráfico que se muestra debajo del código:\n",
    "![](img/img7.png)"
   ]
  },
  {
   "attachments": {},
   "cell_type": "markdown",
   "metadata": {},
   "source": [
    "## Ejercicio 8\n",
    "Consiste en realizar un octavo circuito, simulando condensadores en paralelo en corriente continua, tal y como se muestra en la siguiente imagen:  \n",
    "![](img/img81.png)\n",
    "El código y el resultado gráfico:\n",
    "![](img/img82.png)"
   ]
  }
 ],
 "metadata": {
  "kernelspec": {
   "display_name": "Python 3",
   "language": "python",
   "name": "python3"
  },
  "language_info": {
   "codemirror_mode": {
    "name": "ipython",
    "version": 3
   },
   "file_extension": ".py",
   "mimetype": "text/x-python",
   "name": "python",
   "nbconvert_exporter": "python",
   "pygments_lexer": "ipython3",
   "version": "3.6.3"
  }
 },
 "nbformat": 4,
 "nbformat_minor": 2
}
